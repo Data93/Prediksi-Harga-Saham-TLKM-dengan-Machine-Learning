{
 "cells": [
  {
   "cell_type": "code",
   "execution_count": 1,
   "id": "6820b167",
   "metadata": {},
   "outputs": [],
   "source": [
    "# Import package yang dibutuhkan untuk memprediksi\n",
    "\n",
    "import pandas as pd\n",
    "import numpy as np\n",
    "import matplotlib.pyplot as plt\n",
    "import seaborn as sns\n",
    "import plotly.express as px\n",
    "\n",
    "%matplotlib inline"
   ]
  },
  {
   "cell_type": "code",
   "execution_count": 2,
   "id": "36b55f10",
   "metadata": {},
   "outputs": [
    {
     "data": {
      "text/html": [
       "<div>\n",
       "<style scoped>\n",
       "    .dataframe tbody tr th:only-of-type {\n",
       "        vertical-align: middle;\n",
       "    }\n",
       "\n",
       "    .dataframe tbody tr th {\n",
       "        vertical-align: top;\n",
       "    }\n",
       "\n",
       "    .dataframe thead th {\n",
       "        text-align: right;\n",
       "    }\n",
       "</style>\n",
       "<table border=\"1\" class=\"dataframe\">\n",
       "  <thead>\n",
       "    <tr style=\"text-align: right;\">\n",
       "      <th></th>\n",
       "      <th>Tanggal</th>\n",
       "      <th>Terakhir</th>\n",
       "      <th>Pembukaan</th>\n",
       "      <th>Tertinggi</th>\n",
       "      <th>Terendah</th>\n",
       "      <th>Vol.</th>\n",
       "      <th>Perubahan%</th>\n",
       "    </tr>\n",
       "  </thead>\n",
       "  <tbody>\n",
       "    <tr>\n",
       "      <th>0</th>\n",
       "      <td>15/07/2022</td>\n",
       "      <td>4.15</td>\n",
       "      <td>4.04</td>\n",
       "      <td>4.21</td>\n",
       "      <td>4.01</td>\n",
       "      <td>146,09M</td>\n",
       "      <td>3,23%</td>\n",
       "    </tr>\n",
       "    <tr>\n",
       "      <th>1</th>\n",
       "      <td>14/07/2022</td>\n",
       "      <td>4.02</td>\n",
       "      <td>3.94</td>\n",
       "      <td>4.02</td>\n",
       "      <td>3.90</td>\n",
       "      <td>68,71M</td>\n",
       "      <td>2,03%</td>\n",
       "    </tr>\n",
       "    <tr>\n",
       "      <th>2</th>\n",
       "      <td>13/07/2022</td>\n",
       "      <td>3.94</td>\n",
       "      <td>4.01</td>\n",
       "      <td>4.03</td>\n",
       "      <td>3.93</td>\n",
       "      <td>96,22M</td>\n",
       "      <td>-1,75%</td>\n",
       "    </tr>\n",
       "    <tr>\n",
       "      <th>3</th>\n",
       "      <td>12/07/2022</td>\n",
       "      <td>4.01</td>\n",
       "      <td>4.06</td>\n",
       "      <td>4.06</td>\n",
       "      <td>4.01</td>\n",
       "      <td>43,40M</td>\n",
       "      <td>-0,74%</td>\n",
       "    </tr>\n",
       "    <tr>\n",
       "      <th>4</th>\n",
       "      <td>11/07/2022</td>\n",
       "      <td>4.04</td>\n",
       "      <td>4.10</td>\n",
       "      <td>4.10</td>\n",
       "      <td>4.00</td>\n",
       "      <td>42,26M</td>\n",
       "      <td>0,75%</td>\n",
       "    </tr>\n",
       "  </tbody>\n",
       "</table>\n",
       "</div>"
      ],
      "text/plain": [
       "      Tanggal  Terakhir  Pembukaan  Tertinggi  Terendah     Vol. Perubahan%\n",
       "0  15/07/2022      4.15       4.04       4.21      4.01  146,09M      3,23%\n",
       "1  14/07/2022      4.02       3.94       4.02      3.90   68,71M      2,03%\n",
       "2  13/07/2022      3.94       4.01       4.03      3.93   96,22M     -1,75%\n",
       "3  12/07/2022      4.01       4.06       4.06      4.01   43,40M     -0,74%\n",
       "4  11/07/2022      4.04       4.10       4.10      4.00   42,26M      0,75%"
      ]
     },
     "execution_count": 2,
     "metadata": {},
     "output_type": "execute_result"
    }
   ],
   "source": [
    "sns.set()\n",
    "plt.style.use('fivethirtyeight')\n",
    "\n",
    "data = pd.read_csv(\"C:\\\\Users\\\\Anteraja\\\\Downloads\\\\Data Historis TLKM.csv\")\n",
    "data.head()"
   ]
  },
  {
   "cell_type": "code",
   "execution_count": 3,
   "id": "4a90a6a0",
   "metadata": {},
   "outputs": [
    {
     "name": "stdout",
     "output_type": "stream",
     "text": [
      "      Tanggal  Terakhir  Pembukaan  Tertinggi  Terendah     Vol. Perubahan%\n",
      "0  15/07/2022      4.15       4.04       4.21      4.01  146,09M      3,23%\n",
      "1  14/07/2022      4.02       3.94       4.02      3.90   68,71M      2,03%\n",
      "2  13/07/2022      3.94       4.01       4.03      3.93   96,22M     -1,75%\n",
      "3  12/07/2022      4.01       4.06       4.06      4.01   43,40M     -0,74%\n",
      "4  11/07/2022      4.04       4.10       4.10      4.00   42,26M      0,75%\n"
     ]
    }
   ],
   "source": [
    "# Melihat 5 data tertinggi dari harga saham TLKM\n",
    "print(data.head())"
   ]
  },
  {
   "cell_type": "code",
   "execution_count": 5,
   "id": "ab1fc28d",
   "metadata": {},
   "outputs": [
    {
     "name": "stdout",
     "output_type": "stream",
     "text": [
      "<class 'pandas.core.frame.DataFrame'>\n",
      "RangeIndex: 32 entries, 0 to 31\n",
      "Data columns (total 7 columns):\n",
      " #   Column      Non-Null Count  Dtype  \n",
      "---  ------      --------------  -----  \n",
      " 0   Tanggal     32 non-null     object \n",
      " 1   Terakhir    32 non-null     float64\n",
      " 2   Pembukaan   32 non-null     float64\n",
      " 3   Tertinggi   32 non-null     float64\n",
      " 4   Terendah    32 non-null     float64\n",
      " 5   Vol.        32 non-null     object \n",
      " 6   Perubahan%  32 non-null     object \n",
      "dtypes: float64(4), object(3)\n",
      "memory usage: 1.9+ KB\n"
     ]
    }
   ],
   "source": [
    "# Data pre-processing\n",
    "data.info()"
   ]
  },
  {
   "cell_type": "code",
   "execution_count": 6,
   "id": "b35e783b",
   "metadata": {},
   "outputs": [
    {
     "data": {
      "text/html": [
       "<div>\n",
       "<style scoped>\n",
       "    .dataframe tbody tr th:only-of-type {\n",
       "        vertical-align: middle;\n",
       "    }\n",
       "\n",
       "    .dataframe tbody tr th {\n",
       "        vertical-align: top;\n",
       "    }\n",
       "\n",
       "    .dataframe thead th {\n",
       "        text-align: right;\n",
       "    }\n",
       "</style>\n",
       "<table border=\"1\" class=\"dataframe\">\n",
       "  <thead>\n",
       "    <tr style=\"text-align: right;\">\n",
       "      <th></th>\n",
       "      <th>Terakhir</th>\n",
       "      <th>Pembukaan</th>\n",
       "      <th>Tertinggi</th>\n",
       "      <th>Terendah</th>\n",
       "    </tr>\n",
       "  </thead>\n",
       "  <tbody>\n",
       "    <tr>\n",
       "      <th>count</th>\n",
       "      <td>32.000000</td>\n",
       "      <td>32.000000</td>\n",
       "      <td>32.000000</td>\n",
       "      <td>32.000000</td>\n",
       "    </tr>\n",
       "    <tr>\n",
       "      <th>mean</th>\n",
       "      <td>4.082813</td>\n",
       "      <td>4.088438</td>\n",
       "      <td>4.129062</td>\n",
       "      <td>4.033438</td>\n",
       "    </tr>\n",
       "    <tr>\n",
       "      <th>std</th>\n",
       "      <td>0.097128</td>\n",
       "      <td>0.110952</td>\n",
       "      <td>0.103155</td>\n",
       "      <td>0.104437</td>\n",
       "    </tr>\n",
       "    <tr>\n",
       "      <th>min</th>\n",
       "      <td>3.940000</td>\n",
       "      <td>3.940000</td>\n",
       "      <td>4.020000</td>\n",
       "      <td>3.840000</td>\n",
       "    </tr>\n",
       "    <tr>\n",
       "      <th>25%</th>\n",
       "      <td>4.020000</td>\n",
       "      <td>4.017500</td>\n",
       "      <td>4.060000</td>\n",
       "      <td>4.000000</td>\n",
       "    </tr>\n",
       "    <tr>\n",
       "      <th>50%</th>\n",
       "      <td>4.045000</td>\n",
       "      <td>4.050000</td>\n",
       "      <td>4.100000</td>\n",
       "      <td>4.010000</td>\n",
       "    </tr>\n",
       "    <tr>\n",
       "      <th>75%</th>\n",
       "      <td>4.112500</td>\n",
       "      <td>4.110000</td>\n",
       "      <td>4.137500</td>\n",
       "      <td>4.040000</td>\n",
       "    </tr>\n",
       "    <tr>\n",
       "      <th>max</th>\n",
       "      <td>4.340000</td>\n",
       "      <td>4.390000</td>\n",
       "      <td>4.390000</td>\n",
       "      <td>4.300000</td>\n",
       "    </tr>\n",
       "  </tbody>\n",
       "</table>\n",
       "</div>"
      ],
      "text/plain": [
       "        Terakhir  Pembukaan  Tertinggi   Terendah\n",
       "count  32.000000  32.000000  32.000000  32.000000\n",
       "mean    4.082813   4.088438   4.129062   4.033438\n",
       "std     0.097128   0.110952   0.103155   0.104437\n",
       "min     3.940000   3.940000   4.020000   3.840000\n",
       "25%     4.020000   4.017500   4.060000   4.000000\n",
       "50%     4.045000   4.050000   4.100000   4.010000\n",
       "75%     4.112500   4.110000   4.137500   4.040000\n",
       "max     4.340000   4.390000   4.390000   4.300000"
      ]
     },
     "execution_count": 6,
     "metadata": {},
     "output_type": "execute_result"
    }
   ],
   "source": [
    "# Statistik\n",
    "data.describe()"
   ]
  },
  {
   "cell_type": "code",
   "execution_count": 8,
   "id": "b7fbeb16",
   "metadata": {},
   "outputs": [
    {
     "data": {
      "text/plain": [
       "Index(['Tanggal', 'Terakhir', 'Pembukaan', 'Tertinggi', 'Terendah', 'Vol.',\n",
       "       'Perubahan%'],\n",
       "      dtype='object')"
      ]
     },
     "execution_count": 8,
     "metadata": {},
     "output_type": "execute_result"
    }
   ],
   "source": [
    "data.columns"
   ]
  },
  {
   "cell_type": "markdown",
   "id": "ba61cbf2",
   "metadata": {},
   "source": [
    "Dari data ini, kita akan pilih data yang memiliki nilai untuk di prediksi, jadi mari kita pilih data \"Terakhir\" dari harga saham TLKM"
   ]
  },
  {
   "cell_type": "code",
   "execution_count": 10,
   "id": "b34857ac",
   "metadata": {},
   "outputs": [
    {
     "data": {
      "image/png": "[encoded data removed]",
      "text/plain": [
       "<Figure size 1008x432 with 1 Axes>"
      ]
     },
     "metadata": {},
     "output_type": "display_data"
    }
   ],
   "source": [
    "plt.figure(figsize=(14, 6))\n",
    "plt.title(\"Harga Saham TELKOM\", fontsize=26)\n",
    "plt.xlabel(\"Tanggal\")\n",
    "plt.ylabel(\"Terakhir\")\n",
    "plt.plot(data[\"Terakhir\"])\n",
    "plt.show()"
   ]
  },
  {
   "cell_type": "markdown",
   "id": "2676bd94",
   "metadata": {},
   "source": [
    "Dari grafik di atas, terlihat bahwa kenaikan harga saham yang cukup signifikan yaitu 4.35 setelah sebelum nya di angka 4.00"
   ]
  },
  {
   "cell_type": "markdown",
   "id": "703eb738",
   "metadata": {},
   "source": [
    "Sekarang, mari kita lihat korelasi dari dataset "
   ]
  },
  {
   "cell_type": "code",
   "execution_count": 13,
   "id": "e348c667",
   "metadata": {},
   "outputs": [
    {
     "name": "stdout",
     "output_type": "stream",
     "text": [
      "           Terakhir  Pembukaan  Tertinggi  Terendah\n",
      "Terakhir   1.000000   0.803242   0.947160  0.884990\n",
      "Pembukaan  0.803242   1.000000   0.906282  0.927781\n",
      "Tertinggi  0.947160   0.906282   1.000000  0.921046\n",
      "Terendah   0.884990   0.927781   0.921046  1.000000\n"
     ]
    },
    {
     "data": {
      "image/png": "[encoded data removed]",
      "text/plain": [
       "<Figure size 864x432 with 2 Axes>"
      ]
     },
     "metadata": {},
     "output_type": "display_data"
    }
   ],
   "source": [
    "print(data.corr())\n",
    "plt.figure(figsize=(12, 6))\n",
    "sns.heatmap(data.corr())\n",
    "plt.show()"
   ]
  },
  {
   "cell_type": "code",
   "execution_count": 14,
   "id": "567fe50c",
   "metadata": {},
   "outputs": [],
   "source": [
    "# Feature selection\n",
    "\n",
    "feature = data[[\"Pembukaan\",\"Tertinggi\",\"Terendah\"]]\n",
    "target = data[\"Terakhir\"]\n",
    "feature = feature.to_numpy()\n",
    "target = target.to_numpy()\n",
    "target = target.reshape(-1, 1)"
   ]
  },
  {
   "cell_type": "code",
   "execution_count": 15,
   "id": "c6b6b944",
   "metadata": {},
   "outputs": [],
   "source": [
    "#Spliting Data\n",
    "\n",
    "from sklearn.model_selection import train_test_split\n",
    "xtrain, xtest, ytrain, ytest = train_test_split(feature, target, test_size=0.2, random_state=42)"
   ]
  },
  {
   "cell_type": "markdown",
   "id": "2fb0fb11",
   "metadata": {},
   "source": [
    "Mari kita prediksi harga saham TLKM 5 hari kedepan dengan menggunakan MACHINE LEARNING"
   ]
  },
  {
   "cell_type": "code",
   "execution_count": 16,
   "id": "4d7e62c2",
   "metadata": {},
   "outputs": [
    {
     "data": {
      "text/plain": [
       "DecisionTreeRegressor()"
      ]
     },
     "execution_count": 16,
     "metadata": {},
     "output_type": "execute_result"
    }
   ],
   "source": [
    "#Memilih model\n",
    "\n",
    "from sklearn.tree import DecisionTreeRegressor\n",
    "model = DecisionTreeRegressor()\n",
    "model.fit(xtrain, ytrain)"
   ]
  },
  {
   "cell_type": "code",
   "execution_count": 17,
   "id": "c5621a73",
   "metadata": {},
   "outputs": [
    {
     "name": "stdout",
     "output_type": "stream",
     "text": [
      "   Predicted Rate\n",
      "0            4.25\n",
      "1            4.10\n",
      "2            3.94\n",
      "3            4.06\n",
      "4            3.94\n"
     ]
    }
   ],
   "source": [
    "# Model score\n",
    "\n",
    "ypred = model.predict(xtest)\n",
    "data = pd.DataFrame(data={\"Predicted Rate\": ypred})\n",
    "print(data.head())"
   ]
  },
  {
   "cell_type": "markdown",
   "id": "628c4410",
   "metadata": {},
   "source": [
    "# SUMMARY"
   ]
  },
  {
   "cell_type": "markdown",
   "id": "70a463b9",
   "metadata": {},
   "source": [
    "Hasil prediksi harga saham TELKOM pada 5 hari kedepan menggunakan MACHINE LEARNING.\n",
    "\n",
    "\n",
    "THANK YOU..\n",
    "Data source : id.investing.com"
   ]
  }
 ],
 "metadata": {
  "kernelspec": {
   "display_name": "Python 3 (ipykernel)",
   "language": "python",
   "name": "python3"
  },
  "language_info": {
   "codemirror_mode": {
    "name": "ipython",
    "version": 3
   },
   "file_extension": ".py",
   "mimetype": "text/x-python",
   "name": "python",
   "nbconvert_exporter": "python",
   "pygments_lexer": "ipython3",
   "version": "3.9.12"
  }
 },
 "nbformat": 4,
 "nbformat_minor": 5
}
